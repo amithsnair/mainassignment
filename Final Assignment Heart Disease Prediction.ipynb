{
 "cells": [
  {
   "cell_type": "code",
   "execution_count": 1,
   "id": "bcacc440",
   "metadata": {},
   "outputs": [],
   "source": [
    "import pandas as pd\n",
    "import numpy as np\n",
    "from sklearn.model_selection import train_test_split\n",
    "from sklearn.preprocessing import StandardScaler\n",
    "from sklearn.impute import SimpleImputer\n",
    "from sklearn.preprocessing import OneHotEncoder\n",
    "from sklearn.compose import ColumnTransformer\n",
    "from sklearn.metrics import accuracy_score\n",
    "from sklearn.linear_model import LogisticRegression\n",
    "from sklearn.tree import DecisionTreeClassifier\n",
    "from sklearn.ensemble import RandomForestClassifier\n",
    "from sklearn.svm import SVC\n",
    "import matplotlib.pyplot as plt\n",
    "import pickle"
   ]
  },
  {
   "cell_type": "code",
   "execution_count": 2,
   "id": "cb10b515",
   "metadata": {},
   "outputs": [],
   "source": [
    "# Load data\n",
    "data = pd.read_csv('heart_cleveland_upload.csv')"
   ]
  },
  {
   "cell_type": "code",
   "execution_count": 3,
   "id": "0a2152dc",
   "metadata": {},
   "outputs": [],
   "source": [
    "# clean the data\n",
    "data = data.dropna(axis=0, how='any')  # drop rows with any missing values\n",
    "data = data.drop_duplicates()  # drop duplicate rows"
   ]
  },
  {
   "cell_type": "code",
   "execution_count": 4,
   "id": "429117bf",
   "metadata": {},
   "outputs": [],
   "source": [
    "# handle missing values\n",
    "num_columns = data.select_dtypes(include=['int64', 'float64']).columns\n",
    "imputer = SimpleImputer()\n",
    "data[num_columns] = imputer.fit_transform(data[num_columns])"
   ]
  },
  {
   "cell_type": "code",
   "execution_count": 5,
   "id": "b7735e60",
   "metadata": {},
   "outputs": [],
   "source": [
    "# encode categorical data\n",
    "cat_columns = data.select_dtypes(include=['object']).columns\n",
    "ohe = OneHotEncoder(sparse=False, handle_unknown='ignore')\n",
    "ct = ColumnTransformer(transformers=[('encoder', ohe, cat_columns)], remainder='passthrough')\n",
    "df = pd.DataFrame(ct.fit_transform(data))"
   ]
  },
  {
   "cell_type": "code",
   "execution_count": 6,
   "id": "6ffefbea",
   "metadata": {},
   "outputs": [],
   "source": [
    "# Divide the data into features and labels\n",
    "X = data.drop('condition', axis=1)\n",
    "y = data['condition']"
   ]
  },
  {
   "cell_type": "code",
   "execution_count": 7,
   "id": "20cb65d1",
   "metadata": {},
   "outputs": [],
   "source": [
    "# Scale the data\n",
    "scaler = StandardScaler()\n",
    "X = scaler.fit_transform(X)"
   ]
  },
  {
   "cell_type": "code",
   "execution_count": 8,
   "id": "0886b2eb",
   "metadata": {},
   "outputs": [],
   "source": [
    "# Split the data into train and test sets\n",
    "X_train, X_test, y_train, y_test = train_test_split(X, y, test_size=0.2, random_state=42)"
   ]
  },
  {
   "cell_type": "code",
   "execution_count": 9,
   "id": "16e621e6",
   "metadata": {},
   "outputs": [],
   "source": [
    "# Define the classifier algorithms\n",
    "classifiers = {'Logistic Regression': LogisticRegression(),\n",
    "              'Decision Tree': DecisionTreeClassifier(),\n",
    "              'Random Forest': RandomForestClassifier(),\n",
    "              'SVM': SVC()}"
   ]
  },
  {
   "cell_type": "code",
   "execution_count": 10,
   "id": "59dc40c0",
   "metadata": {},
   "outputs": [],
   "source": [
    "# Train and evaluate the classifiers\n",
    "results = {}\n",
    "for name, clf in classifiers.items():\n",
    "    clf.fit(X_train, y_train)\n",
    "    y_pred = clf.predict(X_test)\n",
    "    results[name] = accuracy_score(y_test, y_pred)"
   ]
  },
  {
   "cell_type": "code",
   "execution_count": 11,
   "id": "27f20a6c",
   "metadata": {},
   "outputs": [
    {
     "name": "stdout",
     "output_type": "stream",
     "text": [
      "Logistic Regression Accuracy: 0.5316265060240963\n",
      "Decision Tree Accuracy: 0.5067771084337349\n",
      "Random Forest Accuracy: 0.5353915662650602\n",
      "SVM Accuracy: 0.5210843373493976\n"
     ]
    }
   ],
   "source": [
    "# Plot the results\n",
    "for name, accuracy in results.items():\n",
    "    print(f'{name} Accuracy: {accuracy}')"
   ]
  },
  {
   "cell_type": "code",
   "execution_count": 13,
   "id": "3c25f12c",
   "metadata": {},
   "outputs": [
    {
     "data": {
      "image/png": "[encoded data removed]",
      "text/plain": [
       "<Figure size 432x288 with 1 Axes>"
      ]
     },
     "metadata": {
      "needs_background": "light"
     },
     "output_type": "display_data"
    }
   ],
   "source": [
    "# Plot the results\n",
    "plt.bar(results.keys(), results.values())\n",
    "plt.show()"
   ]
  },
  {
   "cell_type": "code",
   "execution_count": 12,
   "id": "ecec7f25",
   "metadata": {},
   "outputs": [],
   "source": [
    "# Find the best model\n",
    "best_model_name = max(results, key=results.get)\n",
    "best_model = classifiers[best_model_name]"
   ]
  },
  {
   "cell_type": "code",
   "execution_count": 14,
   "id": "ca7c2fe9",
   "metadata": {},
   "outputs": [],
   "source": [
    "# Save the best model as a pickle file\n",
    "pickle.dump(best_model, open('best_model.pkl', 'wb'))"
   ]
  },
  {
   "cell_type": "code",
   "execution_count": null,
   "id": "30d02d78",
   "metadata": {},
   "outputs": [],
   "source": []
  }
 ],
 "metadata": {
  "kernelspec": {
   "display_name": "Python 3 (ipykernel)",
   "language": "python",
   "name": "python3"
  },
  "language_info": {
   "codemirror_mode": {
    "name": "ipython",
    "version": 3
   },
   "file_extension": ".py",
   "mimetype": "text/x-python",
   "name": "python",
   "nbconvert_exporter": "python",
   "pygments_lexer": "ipython3",
   "version": "3.9.12"
  }
 },
 "nbformat": 4,
 "nbformat_minor": 5
}
